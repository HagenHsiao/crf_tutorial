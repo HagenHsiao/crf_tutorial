{
 "cells": [
  {
   "cell_type": "code",
   "execution_count": 1,
   "metadata": {
    "collapsed": true
   },
   "outputs": [],
   "source": [
    "from CRF import CRF\n",
    "from utils import crf_train_loop\n",
    "import numpy as np\n",
    "import torch"
   ]
  },
  {
   "cell_type": "code",
   "execution_count": 2,
   "metadata": {
    "collapsed": true
   },
   "outputs": [],
   "source": [
    "# two dice one is fair, one is loaded\n",
    "fair_dice = np.array([1/6]*6)\n",
    "loaded_dice = np.array([0.04,0.04,0.04,0.04,0.04,0.8])\n",
    "\n",
    "probabilities = {'fair': fair_dice,\n",
    "                'loaded': loaded_dice}"
   ]
  },
  {
   "cell_type": "code",
   "execution_count": 5,
   "metadata": {
    "collapsed": true
   },
   "outputs": [],
   "source": [
    "# if dice is fair at time t, 0.6 chance we stay fair, 0.4 chance it is loaded at time 2\n",
    "transition_mat = {'fair': np.array([0.8, 0.2, 0.0]),\n",
    "                 'loaded': np.array([0.65, 0.35, 0.0]),\n",
    "                 'start': np.array([0.5, 0.5, 0.0])}\n",
    "states = ['fair', 'loaded', 'start']\n",
    "state2ix = {'fair': 0,\n",
    "           'loaded': 1,\n",
    "           'start': 2}\n",
    "\n",
    "log_likelihood = np.hstack([np.log(fair_dice).reshape(-1,1), \n",
    "                            np.log(loaded_dice).reshape(-1,1)])"
   ]
  },
  {
   "cell_type": "code",
   "execution_count": 6,
   "metadata": {
    "collapsed": true
   },
   "outputs": [],
   "source": [
    "def simulate_data(n_timesteps):\n",
    "    data = np.zeros(n_timesteps)\n",
    "    prev_state = 'start'\n",
    "    state_list = np.zeros(n_timesteps)\n",
    "    for n in range(n_timesteps):\n",
    "        next_state = np.random.choice(states, p=transition_mat[prev_state])\n",
    "        state_list[n] = state2ix[next_state]\n",
    "        next_data = np.random.choice([0,1,2,3,4,5], p=probabilities[next_state])\n",
    "        data[n] = next_data\n",
    "    return data, state_list"
   ]
  },
  {
   "cell_type": "code",
   "execution_count": 10,
   "metadata": {
    "collapsed": true
   },
   "outputs": [],
   "source": [
    "n_obs = 15\n",
    "rolls = np.zeros((5000, n_obs)).astype(int)\n",
    "targets = np.zeros((5000, n_obs)).astype(int)\n",
    "\n",
    "for i in range(5000):\n",
    "    data, dices = simulate_data(n_obs)\n",
    "    rolls[i] = data.reshape(1, -1).astype(int)\n",
    "    targets[i] = dices.reshape(1, -1).astype(int)\n"
   ]
  },
  {
   "cell_type": "code",
   "execution_count": 7,
   "metadata": {},
   "outputs": [],
   "source": [
    "model = CRF(2, log_likelihood)"
   ]
  },
  {
   "cell_type": "code",
   "execution_count": 8,
   "metadata": {
    "scrolled": true
   },
   "outputs": [
    {
     "name": "stdout",
     "output_type": "stream",
     "text": [
      "Epoch 0: Batch 0/100 loss is 20.5139\n",
      "Epoch 0: Batch 1/100 loss is 10.8498\n",
      "Epoch 0: Batch 2/100 loss is 11.8594\n",
      "Epoch 0: Batch 3/100 loss is 11.9312\n",
      "Epoch 0: Batch 4/100 loss is 11.0403\n",
      "Epoch 0: Batch 5/100 loss is 12.0504\n",
      "Epoch 0: Batch 6/100 loss is 12.0493\n",
      "Epoch 0: Batch 7/100 loss is 11.3213\n",
      "Epoch 0: Batch 8/100 loss is 11.4374\n",
      "Epoch 0: Batch 9/100 loss is 11.4760\n",
      "Epoch 0: Batch 10/100 loss is 10.3746\n",
      "Epoch 0: Batch 11/100 loss is 10.7225\n",
      "Epoch 0: Batch 12/100 loss is 10.2565\n",
      "Epoch 0: Batch 13/100 loss is 10.4401\n",
      "Epoch 0: Batch 14/100 loss is 10.3484\n",
      "Epoch 0: Batch 15/100 loss is 10.8308\n",
      "Epoch 0: Batch 16/100 loss is 11.3905\n",
      "Epoch 0: Batch 17/100 loss is 10.5387\n",
      "Epoch 0: Batch 18/100 loss is 9.6910\n",
      "Epoch 0: Batch 19/100 loss is 10.5773\n",
      "Epoch 0: Batch 20/100 loss is 9.7850\n",
      "Epoch 0: Batch 21/100 loss is 9.7704\n",
      "Epoch 0: Batch 22/100 loss is 10.0050\n",
      "Epoch 0: Batch 23/100 loss is 9.9496\n",
      "Epoch 0: Batch 24/100 loss is 10.0994\n",
      "Epoch 0: Batch 25/100 loss is 10.9641\n",
      "Epoch 0: Batch 26/100 loss is 10.2011\n",
      "Epoch 0: Batch 27/100 loss is 9.3613\n",
      "Epoch 0: Batch 28/100 loss is 10.2141\n",
      "Epoch 0: Batch 29/100 loss is 9.4324\n",
      "Epoch 0: Batch 30/100 loss is 9.5230\n",
      "Epoch 0: Batch 31/100 loss is 9.2809\n",
      "Epoch 0: Batch 32/100 loss is 8.9292\n",
      "Epoch 0: Batch 33/100 loss is 9.3035\n",
      "Epoch 0: Batch 34/100 loss is 9.7810\n",
      "Epoch 0: Batch 35/100 loss is 8.9383\n",
      "Epoch 0: Batch 36/100 loss is 8.9562\n",
      "Epoch 0: Batch 37/100 loss is 9.3431\n",
      "Epoch 0: Batch 38/100 loss is 9.0587\n",
      "Epoch 0: Batch 39/100 loss is 9.1381\n",
      "Epoch 0: Batch 40/100 loss is 9.8615\n",
      "Epoch 0: Batch 41/100 loss is 8.5748\n",
      "Epoch 0: Batch 42/100 loss is 9.1061\n",
      "Epoch 0: Batch 43/100 loss is 8.8000\n",
      "Epoch 0: Batch 44/100 loss is 9.2928\n",
      "Epoch 0: Batch 45/100 loss is 8.1489\n",
      "Epoch 0: Batch 46/100 loss is 8.8392\n",
      "Epoch 0: Batch 47/100 loss is 8.7013\n",
      "Epoch 0: Batch 48/100 loss is 8.7864\n",
      "Epoch 0: Batch 49/100 loss is 8.1916\n",
      "Epoch 0: Batch 50/100 loss is 7.3488\n",
      "Epoch 0: Batch 51/100 loss is 8.0827\n",
      "Epoch 0: Batch 52/100 loss is 8.7074\n",
      "Epoch 0: Batch 53/100 loss is 9.4538\n",
      "Epoch 0: Batch 54/100 loss is 8.0252\n",
      "Epoch 0: Batch 55/100 loss is 9.1275\n",
      "Epoch 0: Batch 56/100 loss is 9.5528\n",
      "Epoch 0: Batch 57/100 loss is 7.7722\n",
      "Epoch 0: Batch 58/100 loss is 7.9385\n",
      "Epoch 0: Batch 59/100 loss is 8.1279\n",
      "Epoch 0: Batch 60/100 loss is 7.8884\n",
      "Epoch 0: Batch 61/100 loss is 7.9599\n",
      "Epoch 0: Batch 62/100 loss is 7.7278\n",
      "Epoch 0: Batch 63/100 loss is 8.0834\n",
      "Epoch 0: Batch 64/100 loss is 7.9773\n",
      "Epoch 0: Batch 65/100 loss is 7.9859\n",
      "Epoch 0: Batch 66/100 loss is 7.8800\n",
      "Epoch 0: Batch 67/100 loss is 8.1450\n",
      "Epoch 0: Batch 68/100 loss is 7.7806\n",
      "Epoch 0: Batch 69/100 loss is 8.6024\n",
      "Epoch 0: Batch 70/100 loss is 7.3279\n",
      "Epoch 0: Batch 71/100 loss is 7.3834\n",
      "Epoch 0: Batch 72/100 loss is 8.2095\n",
      "Epoch 0: Batch 73/100 loss is 8.4966\n",
      "Epoch 0: Batch 74/100 loss is 7.4063\n",
      "Epoch 0: Batch 75/100 loss is 7.5764\n",
      "Epoch 0: Batch 76/100 loss is 7.2601\n",
      "Epoch 0: Batch 77/100 loss is 7.4528\n",
      "Epoch 0: Batch 78/100 loss is 7.4841\n",
      "Epoch 0: Batch 79/100 loss is 6.8658\n",
      "Epoch 0: Batch 80/100 loss is 7.4401\n",
      "Epoch 0: Batch 81/100 loss is 7.2979\n",
      "Epoch 0: Batch 82/100 loss is 7.3323\n",
      "Epoch 0: Batch 83/100 loss is 7.3658\n",
      "Epoch 0: Batch 84/100 loss is 6.8175\n",
      "Epoch 0: Batch 85/100 loss is 7.0154\n",
      "Epoch 0: Batch 86/100 loss is 7.2178\n",
      "Epoch 0: Batch 87/100 loss is 7.5353\n",
      "Epoch 0: Batch 88/100 loss is 7.1447\n",
      "Epoch 0: Batch 89/100 loss is 6.9246\n",
      "Epoch 0: Batch 90/100 loss is 7.0363\n",
      "Epoch 0: Batch 91/100 loss is 7.4365\n",
      "Epoch 0: Batch 92/100 loss is 7.4498\n",
      "Epoch 0: Batch 93/100 loss is 7.3612\n",
      "Epoch 0: Batch 94/100 loss is 7.5420\n",
      "Epoch 0: Batch 95/100 loss is 6.9002\n",
      "Epoch 0: Batch 96/100 loss is 7.5467\n",
      "Epoch 0: Batch 97/100 loss is 6.4911\n",
      "Epoch 0: Batch 98/100 loss is 7.7845\n",
      "Epoch 0: Batch 99/100 loss is 7.2760\n"
     ]
    }
   ],
   "source": [
    "model = crf_train_loop(model, rolls, targets, 1, 0.01)"
   ]
  },
  {
   "cell_type": "code",
   "execution_count": 11,
   "metadata": {},
   "outputs": [],
   "source": [
    "torch.save(model.state_dict(), \"./checkpoint.hdf5\")"
   ]
  },
  {
   "cell_type": "code",
   "execution_count": 8,
   "metadata": {},
   "outputs": [],
   "source": [
    "model.load_state_dict(torch.load(\"./checkpoint.hdf5\"))"
   ]
  },
  {
   "cell_type": "code",
   "execution_count": 11,
   "metadata": {},
   "outputs": [],
   "source": [
    "preds = model.forward(rolls[1])"
   ]
  },
  {
   "cell_type": "code",
   "execution_count": 35,
   "metadata": {},
   "outputs": [
    {
     "data": {
      "text/plain": [
       "array([2, 3, 4, 5, 5, 5, 1, 5, 3, 2, 5, 5, 5, 3, 5])"
      ]
     },
     "execution_count": 35,
     "metadata": {},
     "output_type": "execute_result"
    }
   ],
   "source": [
    "rolls[0]"
   ]
  },
  {
   "cell_type": "code",
   "execution_count": 36,
   "metadata": {},
   "outputs": [
    {
     "data": {
      "text/plain": [
       "array([0, 1, 0, 1, 1, 1, 0, 0, 1, 0, 1, 1, 1, 0, 0])"
      ]
     },
     "execution_count": 36,
     "metadata": {},
     "output_type": "execute_result"
    }
   ],
   "source": [
    "model.forward(rolls[0])[0]"
   ]
  },
  {
   "cell_type": "code",
   "execution_count": 37,
   "metadata": {},
   "outputs": [
    {
     "data": {
      "text/plain": [
       "array([0, 0, 1, 1, 1, 1, 0, 1, 0, 0, 1, 1, 1, 0, 1])"
      ]
     },
     "execution_count": 37,
     "metadata": {},
     "output_type": "execute_result"
    }
   ],
   "source": [
    "targets[0]"
   ]
  },
  {
   "cell_type": "code",
   "execution_count": 26,
   "metadata": {},
   "outputs": [
    {
     "data": {
      "text/plain": [
       "array([[-0.86563134, -0.40748784, -0.54984874],\n",
       "       [-1.3820231 , -0.59524935, -0.516026  ]], dtype=float32)"
      ]
     },
     "execution_count": 26,
     "metadata": {},
     "output_type": "execute_result"
    }
   ],
   "source": [
    "list(model.parameters())[0].data.numpy()"
   ]
  },
  {
   "cell_type": "code",
   "execution_count": null,
   "metadata": {
    "collapsed": true
   },
   "outputs": [],
   "source": []
  }
 ],
 "metadata": {
  "kernelspec": {
   "display_name": "Python 3",
   "language": "python",
   "name": "python3"
  },
  "language_info": {
   "codemirror_mode": {
    "name": "ipython",
    "version": 3
   },
   "file_extension": ".py",
   "mimetype": "text/x-python",
   "name": "python",
   "nbconvert_exporter": "python",
   "pygments_lexer": "ipython3",
   "version": "3.6.1"
  }
 },
 "nbformat": 4,
 "nbformat_minor": 2
}
